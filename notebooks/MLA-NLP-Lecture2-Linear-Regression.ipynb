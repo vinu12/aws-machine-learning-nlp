{
 "cells": [
  {
   "cell_type": "markdown",
   "metadata": {},
   "source": [
    "![MLU Logo](../data/MLU_Logo.png)"
   ]
  },
  {
   "cell_type": "markdown",
   "metadata": {},
   "source": [
    "# <a name=\"0\">Machine Learning Accelerator - Natural Language Processing - Lecture 2</a>\n",
    "\n",
    "## Linear Regression Models and Regularization\n",
    "\n",
    "In this notebook, we go over Linear Regression methods (with and without regularization: LinearRegression, Ridge, Lasso, ElasticNet) to predict the __log_votes__ field of our review dataset. \n",
    "\n",
    "1. <a href=\"#1\">Reading the dataset</a>\n",
    "2. <a href=\"#2\">Exploratory data analysis</a>\n",
    "3. <a href=\"#3\">Stop word removal and stemming</a>\n",
    "4. <a href=\"#4\">Train - Validation Split</a>\n",
    "5. <a href=\"#5\">Data processing with Pipeline and ColumnTransform</a>\n",
    "6. <a href=\"#6\">Train the regressor</a>\n",
    "7. <a href=\"#7\">Fitting Linear Regression models and checking the validation performance</a> Find more details on the classical Linear Regression models with and without regularization here: https://scikit-learn.org/stable/modules/classes.html#module-sklearn.linear_model\n",
    "8. <a href=\"#8\">Ideas for improvement</a>\n",
    "\n",
    "Overall dataset schema:\n",
    "* __reviewText:__ Text of the review\n",
    "* __summary:__ Summary of the review\n",
    "* __verified:__ Whether the purchase was verified (True or False)\n",
    "* __time:__ UNIX timestamp for the review\n",
    "* __rating:__ Rating of the review\n",
    "* __log_votes:__ Logarithm-adjusted votes log(1+votes)\n"
   ]
  },
  {
   "cell_type": "code",
   "execution_count": 1,
   "metadata": {},
   "outputs": [
    {
     "name": "stdout",
     "output_type": "stream",
     "text": [
      "Note: you may need to restart the kernel to use updated packages.\n"
     ]
    }
   ],
   "source": [
    "%pip install -q -r ../requirements.txt"
   ]
  },
  {
   "cell_type": "markdown",
   "metadata": {},
   "source": [
    "## 1. <a name=\"1\">Reading the dataset</a>\n",
    "(<a href=\"#0\">Go to top</a>)\n",
    "\n",
    "We will use the __pandas__ library to read our dataset."
   ]
  },
  {
   "cell_type": "code",
   "execution_count": 2,
   "metadata": {},
   "outputs": [
    {
     "data": {
      "text/html": [
       "<div>\n",
       "<style scoped>\n",
       "    .dataframe tbody tr th:only-of-type {\n",
       "        vertical-align: middle;\n",
       "    }\n",
       "\n",
       "    .dataframe tbody tr th {\n",
       "        vertical-align: top;\n",
       "    }\n",
       "\n",
       "    .dataframe thead th {\n",
       "        text-align: right;\n",
       "    }\n",
       "</style>\n",
       "<table border=\"1\" class=\"dataframe\">\n",
       "  <thead>\n",
       "    <tr style=\"text-align: right;\">\n",
       "      <th></th>\n",
       "      <th>reviewText</th>\n",
       "      <th>summary</th>\n",
       "      <th>verified</th>\n",
       "      <th>time</th>\n",
       "      <th>rating</th>\n",
       "      <th>log_votes</th>\n",
       "    </tr>\n",
       "  </thead>\n",
       "  <tbody>\n",
       "    <tr>\n",
       "      <th>0</th>\n",
       "      <td>Stuck with this at work, slow and we still got...</td>\n",
       "      <td>Use SEP or Mcafee</td>\n",
       "      <td>False</td>\n",
       "      <td>1464739200</td>\n",
       "      <td>1.0</td>\n",
       "      <td>0.0</td>\n",
       "    </tr>\n",
       "    <tr>\n",
       "      <th>1</th>\n",
       "      <td>I use parallels every day with both my persona...</td>\n",
       "      <td>Use it daily</td>\n",
       "      <td>False</td>\n",
       "      <td>1332892800</td>\n",
       "      <td>5.0</td>\n",
       "      <td>0.0</td>\n",
       "    </tr>\n",
       "    <tr>\n",
       "      <th>2</th>\n",
       "      <td>Barbara Robbins\\n\\nI've used TurboTax to do ou...</td>\n",
       "      <td>Helpful Product</td>\n",
       "      <td>True</td>\n",
       "      <td>1398816000</td>\n",
       "      <td>4.0</td>\n",
       "      <td>0.0</td>\n",
       "    </tr>\n",
       "    <tr>\n",
       "      <th>3</th>\n",
       "      <td>I have been using this software security for y...</td>\n",
       "      <td>Five Stars</td>\n",
       "      <td>True</td>\n",
       "      <td>1430784000</td>\n",
       "      <td>5.0</td>\n",
       "      <td>0.0</td>\n",
       "    </tr>\n",
       "    <tr>\n",
       "      <th>4</th>\n",
       "      <td>If you want your computer hijacked and slowed ...</td>\n",
       "      <td>... hijacked and slowed to a crawl Windows 10 ...</td>\n",
       "      <td>False</td>\n",
       "      <td>1508025600</td>\n",
       "      <td>1.0</td>\n",
       "      <td>0.0</td>\n",
       "    </tr>\n",
       "  </tbody>\n",
       "</table>\n",
       "</div>"
      ],
      "text/plain": [
       "                                          reviewText  \\\n",
       "0  Stuck with this at work, slow and we still got...   \n",
       "1  I use parallels every day with both my persona...   \n",
       "2  Barbara Robbins\\n\\nI've used TurboTax to do ou...   \n",
       "3  I have been using this software security for y...   \n",
       "4  If you want your computer hijacked and slowed ...   \n",
       "\n",
       "                                             summary  verified        time  \\\n",
       "0                                  Use SEP or Mcafee     False  1464739200   \n",
       "1                                       Use it daily     False  1332892800   \n",
       "2                                    Helpful Product      True  1398816000   \n",
       "3                                         Five Stars      True  1430784000   \n",
       "4  ... hijacked and slowed to a crawl Windows 10 ...     False  1508025600   \n",
       "\n",
       "   rating  log_votes  \n",
       "0     1.0        0.0  \n",
       "1     5.0        0.0  \n",
       "2     4.0        0.0  \n",
       "3     5.0        0.0  \n",
       "4     1.0        0.0  "
      ]
     },
     "execution_count": 2,
     "metadata": {},
     "output_type": "execute_result"
    }
   ],
   "source": [
    "import pandas as pd\n",
    "\n",
    "df = pd.read_csv('../data/examples/AMAZON-REVIEW-DATA-REGRESSION.csv')\n",
    "df.head()"
   ]
  },
  {
   "cell_type": "markdown",
   "metadata": {},
   "source": [
    "Let's look at the first five rows in the dataset. As you can see the __log_votes__ field is numeric. That's why we will build a regression model."
   ]
  },
  {
   "cell_type": "markdown",
   "metadata": {},
   "source": [
    "## 2. <a name=\"2\">Exploratory data analysis</a>\n",
    "(<a href=\"#0\">Go to top</a>)"
   ]
  },
  {
   "cell_type": "markdown",
   "metadata": {},
   "source": [
    "Let's look at the range and distribution of log_votes"
   ]
  },
  {
   "cell_type": "code",
   "execution_count": 3,
   "metadata": {},
   "outputs": [
    {
     "data": {
      "text/plain": [
       "0.0"
      ]
     },
     "execution_count": 3,
     "metadata": {},
     "output_type": "execute_result"
    }
   ],
   "source": [
    "df[\"log_votes\"].min()"
   ]
  },
  {
   "cell_type": "code",
   "execution_count": 4,
   "metadata": {},
   "outputs": [
    {
     "data": {
      "text/plain": [
       "7.799753318287247"
      ]
     },
     "execution_count": 4,
     "metadata": {},
     "output_type": "execute_result"
    }
   ],
   "source": [
    "df[\"log_votes\"].max()"
   ]
  },
  {
   "cell_type": "code",
   "execution_count": 5,
   "metadata": {},
   "outputs": [
    {
     "data": {
      "image/png": "[encoded data removed]",
      "text/plain": [
       "<Figure size 640x480 with 1 Axes>"
      ]
     },
     "metadata": {},
     "output_type": "display_data"
    }
   ],
   "source": [
    "%matplotlib inline\n",
    "import matplotlib.pyplot as plt\n",
    "\n",
    "df[\"log_votes\"].plot.hist()\n",
    "plt.show()"
   ]
  },
  {
   "cell_type": "markdown",
   "metadata": {},
   "source": [
    "We can check the number of missing values for each columm below."
   ]
  },
  {
   "cell_type": "code",
   "execution_count": 6,
   "metadata": {},
   "outputs": [
    {
     "name": "stdout",
     "output_type": "stream",
     "text": [
      "reviewText    6\n",
      "summary       7\n",
      "verified      0\n",
      "time          0\n",
      "rating        0\n",
      "log_votes     0\n",
      "dtype: int64\n"
     ]
    }
   ],
   "source": [
    "print(df.isna().sum())"
   ]
  },
  {
   "cell_type": "markdown",
   "metadata": {},
   "source": [
    "## 3. <a name=\"3\">Text Processing: Stop words removal and stemming</a>\n",
    "(<a href=\"#0\">Go to top</a>)"
   ]
  },
  {
   "cell_type": "code",
   "execution_count": 7,
   "metadata": {},
   "outputs": [
    {
     "name": "stderr",
     "output_type": "stream",
     "text": [
      "[nltk_data] Downloading package punkt to /home/ec2-user/nltk_data...\n",
      "[nltk_data]   Package punkt is already up-to-date!\n",
      "[nltk_data] Downloading package stopwords to\n",
      "[nltk_data]     /home/ec2-user/nltk_data...\n",
      "[nltk_data]   Package stopwords is already up-to-date!\n"
     ]
    },
    {
     "data": {
      "text/plain": [
       "True"
      ]
     },
     "execution_count": 7,
     "metadata": {},
     "output_type": "execute_result"
    }
   ],
   "source": [
    "# Install the library and functions\n",
    "import nltk\n",
    "\n",
    "nltk.download('punkt')\n",
    "nltk.download('stopwords')"
   ]
  },
  {
   "cell_type": "markdown",
   "metadata": {},
   "source": [
    "We will create the stop word removal and text cleaning processes below. NLTK library provides a list of common stop words. We will use the list, but remove some of the words from that list (because those words are actually useful to understand the sentiment in the sentence)."
   ]
  },
  {
   "cell_type": "code",
   "execution_count": 8,
   "metadata": {},
   "outputs": [],
   "source": [
    "import nltk, re\n",
    "from nltk.corpus import stopwords\n",
    "from nltk.stem import SnowballStemmer\n",
    "from nltk.tokenize import word_tokenize\n",
    "\n",
    "# Let's get a list of stop words from the NLTK library\n",
    "stop = stopwords.words('english')\n",
    "\n",
    "# These words are important for our problem. We don't want to remove them.\n",
    "excluding = ['against', 'not', 'don', \"don't\",'ain', 'aren', \"aren't\", 'couldn', \"couldn't\",\n",
    "             'didn', \"didn't\", 'doesn', \"doesn't\", 'hadn', \"hadn't\", 'hasn', \"hasn't\", \n",
    "             'haven', \"haven't\", 'isn', \"isn't\", 'mightn', \"mightn't\", 'mustn', \"mustn't\",\n",
    "             'needn', \"needn't\",'shouldn', \"shouldn't\", 'wasn', \"wasn't\", 'weren', \n",
    "             \"weren't\", 'won', \"won't\", 'wouldn', \"wouldn't\"]\n",
    "\n",
    "# New stop word list\n",
    "stop_words = [word for word in stop if word not in excluding]\n",
    "\n",
    "snow = SnowballStemmer('english')\n",
    "\n",
    "def process_text(texts): \n",
    "    final_text_list=[]\n",
    "    for sent in texts:\n",
    "        \n",
    "        # Check if the sentence is a missing value\n",
    "        if isinstance(sent, str) == False:\n",
    "            sent = \"\"\n",
    "            \n",
    "        filtered_sentence=[]\n",
    "        \n",
    "        sent = sent.lower() # Lowercase \n",
    "        sent = sent.strip() # Remove leading/trailing whitespace\n",
    "        sent = re.sub('\\s+', ' ', sent) # Remove extra space and tabs\n",
    "        sent = re.compile('<.*?>').sub('', sent) # Remove HTML tags/markups:\n",
    "        \n",
    "        for w in word_tokenize(sent):\n",
    "            # We are applying some custom filtering here, feel free to try different things\n",
    "            # Check if it is not numeric and its length>2 and not in stop words\n",
    "            if(not w.isnumeric()) and (len(w)>2) and (w not in stop_words):  \n",
    "                # Stem and add to filtered list\n",
    "                filtered_sentence.append(snow.stem(w))\n",
    "        final_string = \" \".join(filtered_sentence) #final string of cleaned words\n",
    " \n",
    "        final_text_list.append(final_string)\n",
    "        \n",
    "    return final_text_list"
   ]
  },
  {
   "cell_type": "markdown",
   "metadata": {},
   "source": [
    "## 4. <a name=\"4\">Train - Validation Split</a>\n",
    "(<a href=\"#0\">Go to top</a>)\n",
    "\n",
    "Let's split our dataset into training (90%) and validation (10%). We will use \"reviewText\", \"summary\", \"time\", \"rating\" fields and predict the \"log_votes\" field."
   ]
  },
  {
   "cell_type": "code",
   "execution_count": 9,
   "metadata": {},
   "outputs": [],
   "source": [
    "from sklearn.model_selection import train_test_split\n",
    "\n",
    "\n",
    "X_train, X_val, y_train, y_val = train_test_split(df[[\"reviewText\", \"summary\", \"time\", \"rating\"]],\n",
    "                                                  df[\"log_votes\"],\n",
    "                                                  test_size=0.10,\n",
    "                                                  shuffle=True,\n",
    "                                                  random_state=324\n",
    "                                                 )"
   ]
  },
  {
   "cell_type": "code",
   "execution_count": 10,
   "metadata": {},
   "outputs": [
    {
     "name": "stdout",
     "output_type": "stream",
     "text": [
      "Processing the reviewText fields\n",
      "Processing the summary fields\n"
     ]
    }
   ],
   "source": [
    "print(\"Processing the reviewText fields\")\n",
    "X_train[\"reviewText\"] = process_text(X_train[\"reviewText\"].tolist())\n",
    "X_val[\"reviewText\"] = process_text(X_val[\"reviewText\"].tolist())\n",
    "\n",
    "print(\"Processing the summary fields\")\n",
    "X_train[\"summary\"] = process_text(X_train[\"summary\"].tolist())\n",
    "X_val[\"summary\"] = process_text(X_val[\"summary\"].tolist())"
   ]
  },
  {
   "cell_type": "markdown",
   "metadata": {},
   "source": [
    "Our __process_text()__ method in section 3 uses empty string for missing values."
   ]
  },
  {
   "cell_type": "markdown",
   "metadata": {},
   "source": [
    "## 5. <a name=\"5\">Data processing with Pipeline and ColumnTransform</a>\n",
    "(<a href=\"#0\">Go to top</a>)\n",
    "\n",
    "In the previous examples, we have seen how to use pipeline to prepare a data field for our machine learning model. This time, we will focus on multiple fields: numeric and text fields. We are using linear regression model from Sklearn: https://scikit-learn.org/stable/modules/classes.html#module-sklearn.linear_model. \n",
    "\n",
    "   * For the numerical features pipeline, the __numerical_processor__ below, we use a MinMaxScaler (don't have to scale features when using Decision Trees, but it's a good idea to see how to use more data transforms). If different processing is desired for different numerical features, different pipelines should be built - just like shown below for the two text features.\n",
    "   * For the numerical features pipeline, the __text_processor__ below, we use CountVectorizer() for the text fields.\n",
    "   \n",
    "The selective preparations of the dataset features are then put together into a collective ColumnTransformer, to be finally used in a Pipeline along with an estimator. This ensures that the transforms are performed automatically on the raw data when fitting the model and when making predictions, such as when evaluating the model on a validation dataset via cross-validation or making predictions on a test dataset in the future."
   ]
  },
  {
   "cell_type": "code",
   "execution_count": 11,
   "metadata": {},
   "outputs": [],
   "source": [
    "# Grab model features/inputs and target/output\n",
    "numerical_features = ['time',\n",
    "                      'rating']\n",
    "\n",
    "text_features = ['summary',\n",
    "                 'reviewText']\n",
    "\n",
    "model_features = numerical_features + text_features\n",
    "model_target = 'log_votes'"
   ]
  },
  {
   "cell_type": "code",
   "execution_count": 12,
   "metadata": {},
   "outputs": [
    {
     "data": {
      "text/html": [
       "<style>#sk-4f819ced-8eff-426f-9df6-b44a02d0cfef {color: black;background-color: white;}#sk-4f819ced-8eff-426f-9df6-b44a02d0cfef pre{padding: 0;}#sk-4f819ced-8eff-426f-9df6-b44a02d0cfef div.sk-toggleable {background-color: white;}#sk-4f819ced-8eff-426f-9df6-b44a02d0cfef label.sk-toggleable__label {cursor: pointer;display: block;width: 100%;margin-bottom: 0;padding: 0.3em;box-sizing: border-box;text-align: center;}#sk-4f819ced-8eff-426f-9df6-b44a02d0cfef div.sk-toggleable__content {max-height: 0;max-width: 0;overflow: hidden;text-align: left;background-color: #f0f8ff;}#sk-4f819ced-8eff-426f-9df6-b44a02d0cfef div.sk-toggleable__content pre {margin: 0.2em;color: black;border-radius: 0.25em;background-color: #f0f8ff;}#sk-4f819ced-8eff-426f-9df6-b44a02d0cfef input.sk-toggleable__control:checked~div.sk-toggleable__content {max-height: 200px;max-width: 100%;overflow: auto;}#sk-4f819ced-8eff-426f-9df6-b44a02d0cfef div.sk-estimator input.sk-toggleable__control:checked~label.sk-toggleable__label {background-color: #d4ebff;}#sk-4f819ced-8eff-426f-9df6-b44a02d0cfef div.sk-label input.sk-toggleable__control:checked~label.sk-toggleable__label {background-color: #d4ebff;}#sk-4f819ced-8eff-426f-9df6-b44a02d0cfef input.sk-hidden--visually {border: 0;clip: rect(1px 1px 1px 1px);clip: rect(1px, 1px, 1px, 1px);height: 1px;margin: -1px;overflow: hidden;padding: 0;position: absolute;width: 1px;}#sk-4f819ced-8eff-426f-9df6-b44a02d0cfef div.sk-estimator {font-family: monospace;background-color: #f0f8ff;border: 1px dotted black;border-radius: 0.25em;box-sizing: border-box;margin-bottom: 0.5em;}#sk-4f819ced-8eff-426f-9df6-b44a02d0cfef div.sk-estimator:hover {background-color: #d4ebff;}#sk-4f819ced-8eff-426f-9df6-b44a02d0cfef div.sk-parallel-item::after {content: \"\";width: 100%;border-bottom: 1px solid gray;flex-grow: 1;}#sk-4f819ced-8eff-426f-9df6-b44a02d0cfef div.sk-label:hover label.sk-toggleable__label {background-color: #d4ebff;}#sk-4f819ced-8eff-426f-9df6-b44a02d0cfef div.sk-serial::before {content: \"\";position: absolute;border-left: 1px solid gray;box-sizing: border-box;top: 2em;bottom: 0;left: 50%;}#sk-4f819ced-8eff-426f-9df6-b44a02d0cfef div.sk-serial {display: flex;flex-direction: column;align-items: center;background-color: white;padding-right: 0.2em;padding-left: 0.2em;}#sk-4f819ced-8eff-426f-9df6-b44a02d0cfef div.sk-item {z-index: 1;}#sk-4f819ced-8eff-426f-9df6-b44a02d0cfef div.sk-parallel {display: flex;align-items: stretch;justify-content: center;background-color: white;}#sk-4f819ced-8eff-426f-9df6-b44a02d0cfef div.sk-parallel::before {content: \"\";position: absolute;border-left: 1px solid gray;box-sizing: border-box;top: 2em;bottom: 0;left: 50%;}#sk-4f819ced-8eff-426f-9df6-b44a02d0cfef div.sk-parallel-item {display: flex;flex-direction: column;position: relative;background-color: white;}#sk-4f819ced-8eff-426f-9df6-b44a02d0cfef div.sk-parallel-item:first-child::after {align-self: flex-end;width: 50%;}#sk-4f819ced-8eff-426f-9df6-b44a02d0cfef div.sk-parallel-item:last-child::after {align-self: flex-start;width: 50%;}#sk-4f819ced-8eff-426f-9df6-b44a02d0cfef div.sk-parallel-item:only-child::after {width: 0;}#sk-4f819ced-8eff-426f-9df6-b44a02d0cfef div.sk-dashed-wrapped {border: 1px dashed gray;margin: 0 0.4em 0.5em 0.4em;box-sizing: border-box;padding-bottom: 0.4em;background-color: white;position: relative;}#sk-4f819ced-8eff-426f-9df6-b44a02d0cfef div.sk-label label {font-family: monospace;font-weight: bold;background-color: white;display: inline-block;line-height: 1.2em;}#sk-4f819ced-8eff-426f-9df6-b44a02d0cfef div.sk-label-container {position: relative;z-index: 2;text-align: center;}#sk-4f819ced-8eff-426f-9df6-b44a02d0cfef div.sk-container {display: inline-block;position: relative;}</style><div id=\"sk-4f819ced-8eff-426f-9df6-b44a02d0cfef\" class\"sk-top-container\"><div class=\"sk-container\"><div class=\"sk-item sk-dashed-wrapped\"><div class=\"sk-label-container\"><div class=\"sk-label sk-toggleable\"><input class=\"sk-toggleable__control sk-hidden--visually\" id=\"96a98906-7225-45c7-b6de-670e62bc1141\" type=\"checkbox\" ><label class=\"sk-toggleable__label\" for=\"96a98906-7225-45c7-b6de-670e62bc1141\">Pipeline</label><div class=\"sk-toggleable__content\"><pre>Pipeline(steps=[('data_preprocessing',\n",
       "                 ColumnTransformer(transformers=[('numerical_pre',\n",
       "                                                  Pipeline(steps=[('num_scaler',\n",
       "                                                                   MinMaxScaler())]),\n",
       "                                                  ['time', 'rating']),\n",
       "                                                 ('text_pre_0',\n",
       "                                                  Pipeline(steps=[('text_vect_0',\n",
       "                                                                   CountVectorizer(binary=True,\n",
       "                                                                                   max_features=50))]),\n",
       "                                                  'summary'),\n",
       "                                                 ('text_pre_1',\n",
       "                                                  Pipeline(steps=[('text_vect_1',\n",
       "                                                                   CountVectorizer(binary=True,\n",
       "                                                                                   max_features=150))]),\n",
       "                                                  'reviewText')])),\n",
       "                ('lr', LinearRegression())])</pre></div></div></div><div class=\"sk-serial\"><div class=\"sk-item sk-dashed-wrapped\"><div class=\"sk-label-container\"><div class=\"sk-label sk-toggleable\"><input class=\"sk-toggleable__control sk-hidden--visually\" id=\"e1dd1ff7-128e-42b0-b919-361ec354339f\" type=\"checkbox\" ><label class=\"sk-toggleable__label\" for=\"e1dd1ff7-128e-42b0-b919-361ec354339f\">data_preprocessing: ColumnTransformer</label><div class=\"sk-toggleable__content\"><pre>ColumnTransformer(transformers=[('numerical_pre',\n",
       "                                 Pipeline(steps=[('num_scaler',\n",
       "                                                  MinMaxScaler())]),\n",
       "                                 ['time', 'rating']),\n",
       "                                ('text_pre_0',\n",
       "                                 Pipeline(steps=[('text_vect_0',\n",
       "                                                  CountVectorizer(binary=True,\n",
       "                                                                  max_features=50))]),\n",
       "                                 'summary'),\n",
       "                                ('text_pre_1',\n",
       "                                 Pipeline(steps=[('text_vect_1',\n",
       "                                                  CountVectorizer(binary=True,\n",
       "                                                                  max_features=150))]),\n",
       "                                 'reviewText')])</pre></div></div></div><div class=\"sk-parallel\"><div class=\"sk-parallel-item\"><div class=\"sk-item\"><div class=\"sk-label-container\"><div class=\"sk-label sk-toggleable\"><input class=\"sk-toggleable__control sk-hidden--visually\" id=\"8711c7b0-1d33-47fa-819c-b0a195d435da\" type=\"checkbox\" ><label class=\"sk-toggleable__label\" for=\"8711c7b0-1d33-47fa-819c-b0a195d435da\">numerical_pre</label><div class=\"sk-toggleable__content\"><pre>['time', 'rating']</pre></div></div></div><div class=\"sk-serial\"><div class=\"sk-item\"><div class=\"sk-serial\"><div class=\"sk-item\"><div class=\"sk-estimator sk-toggleable\"><input class=\"sk-toggleable__control sk-hidden--visually\" id=\"23d535ed-9db0-4e92-949c-83af3d676765\" type=\"checkbox\" ><label class=\"sk-toggleable__label\" for=\"23d535ed-9db0-4e92-949c-83af3d676765\">MinMaxScaler</label><div class=\"sk-toggleable__content\"><pre>MinMaxScaler()</pre></div></div></div></div></div></div></div></div><div class=\"sk-parallel-item\"><div class=\"sk-item\"><div class=\"sk-label-container\"><div class=\"sk-label sk-toggleable\"><input class=\"sk-toggleable__control sk-hidden--visually\" id=\"4f6d78a2-d7b0-46d4-b41d-c10a98d1f6dc\" type=\"checkbox\" ><label class=\"sk-toggleable__label\" for=\"4f6d78a2-d7b0-46d4-b41d-c10a98d1f6dc\">text_pre_0</label><div class=\"sk-toggleable__content\"><pre>summary</pre></div></div></div><div class=\"sk-serial\"><div class=\"sk-item\"><div class=\"sk-serial\"><div class=\"sk-item\"><div class=\"sk-estimator sk-toggleable\"><input class=\"sk-toggleable__control sk-hidden--visually\" id=\"53d7c71b-5f44-4d1d-be4a-e7193f879bc7\" type=\"checkbox\" ><label class=\"sk-toggleable__label\" for=\"53d7c71b-5f44-4d1d-be4a-e7193f879bc7\">CountVectorizer</label><div class=\"sk-toggleable__content\"><pre>CountVectorizer(binary=True, max_features=50)</pre></div></div></div></div></div></div></div></div><div class=\"sk-parallel-item\"><div class=\"sk-item\"><div class=\"sk-label-container\"><div class=\"sk-label sk-toggleable\"><input class=\"sk-toggleable__control sk-hidden--visually\" id=\"993b8e40-66cb-4250-99c4-29b24b8be203\" type=\"checkbox\" ><label class=\"sk-toggleable__label\" for=\"993b8e40-66cb-4250-99c4-29b24b8be203\">text_pre_1</label><div class=\"sk-toggleable__content\"><pre>reviewText</pre></div></div></div><div class=\"sk-serial\"><div class=\"sk-item\"><div class=\"sk-serial\"><div class=\"sk-item\"><div class=\"sk-estimator sk-toggleable\"><input class=\"sk-toggleable__control sk-hidden--visually\" id=\"391e4ada-91cf-4341-a42c-26be4353a930\" type=\"checkbox\" ><label class=\"sk-toggleable__label\" for=\"391e4ada-91cf-4341-a42c-26be4353a930\">CountVectorizer</label><div class=\"sk-toggleable__content\"><pre>CountVectorizer(binary=True, max_features=150)</pre></div></div></div></div></div></div></div></div></div></div><div class=\"sk-item\"><div class=\"sk-estimator sk-toggleable\"><input class=\"sk-toggleable__control sk-hidden--visually\" id=\"ef751128-5088-43da-b20b-5fa5af81e027\" type=\"checkbox\" ><label class=\"sk-toggleable__label\" for=\"ef751128-5088-43da-b20b-5fa5af81e027\">LinearRegression</label><div class=\"sk-toggleable__content\"><pre>LinearRegression()</pre></div></div></div></div></div></div></div>"
      ],
      "text/plain": [
       "Pipeline(steps=[('data_preprocessing',\n",
       "                 ColumnTransformer(transformers=[('numerical_pre',\n",
       "                                                  Pipeline(steps=[('num_scaler',\n",
       "                                                                   MinMaxScaler())]),\n",
       "                                                  ['time', 'rating']),\n",
       "                                                 ('text_pre_0',\n",
       "                                                  Pipeline(steps=[('text_vect_0',\n",
       "                                                                   CountVectorizer(binary=True,\n",
       "                                                                                   max_features=50))]),\n",
       "                                                  'summary'),\n",
       "                                                 ('text_pre_1',\n",
       "                                                  Pipeline(steps=[('text_vect_1',\n",
       "                                                                   CountVectorizer(binary=True,\n",
       "                                                                                   max_features=150))]),\n",
       "                                                  'reviewText')])),\n",
       "                ('lr', LinearRegression())])"
      ]
     },
     "execution_count": 12,
     "metadata": {},
     "output_type": "execute_result"
    }
   ],
   "source": [
    "from sklearn.impute import SimpleImputer\n",
    "from sklearn.preprocessing import MinMaxScaler\n",
    "from sklearn.feature_extraction.text import CountVectorizer\n",
    "from sklearn.pipeline import Pipeline\n",
    "from sklearn.compose import ColumnTransformer\n",
    "from sklearn.linear_model import LinearRegression\n",
    "\n",
    "### COLUMN_TRANSFORMER ###\n",
    "##########################\n",
    "\n",
    "# Preprocess the numerical features\n",
    "numerical_processor = Pipeline([\n",
    "    ('num_scaler', MinMaxScaler())\n",
    "])\n",
    "# Preprocess 1st text feature\n",
    "text_processor_0 = Pipeline([\n",
    "    ('text_vect_0', CountVectorizer(binary=True, max_features=50))\n",
    "])\n",
    "\n",
    "# Preprocess 2nd text feature (larger vocabulary)\n",
    "text_precessor_1 = Pipeline([\n",
    "    ('text_vect_1', CountVectorizer(binary=True, max_features=150))\n",
    "])\n",
    "\n",
    "# Combine all data preprocessors from above (add more, if you choose to define more!)\n",
    "# For each processor/step specify: a name, the actual process, and finally the features to be processed\n",
    "data_preprocessor = ColumnTransformer([\n",
    "    ('numerical_pre', numerical_processor, numerical_features),\n",
    "    ('text_pre_0', text_processor_0, text_features[0]),\n",
    "    ('text_pre_1', text_precessor_1, text_features[1])\n",
    "]) \n",
    "\n",
    "### PIPELINE ###\n",
    "################\n",
    "\n",
    "# Pipeline desired all data transformers, along with an estimator at the end\n",
    "# Later you can set/reach the parameters using the names issued - for hyperparameter tuning, for example\n",
    "pipeline = Pipeline([\n",
    "    ('data_preprocessing', data_preprocessor),\n",
    "    ('lr', LinearRegression())\n",
    "])\n",
    "\n",
    "# Visualize the pipeline\n",
    "# This will come in handy especially when building more complex pipelines, stringing together multiple preprocessing steps\n",
    "from sklearn import set_config\n",
    "set_config(display='diagram')\n",
    "pipeline"
   ]
  },
  {
   "cell_type": "markdown",
   "metadata": {},
   "source": [
    "## 6. <a name=\"6\">Train the regressor</a>\n",
    "(<a href=\"#0\">Go to top</a>)\n",
    "\n",
    "We train our model by using __.fit()__ on our training dataset. "
   ]
  },
  {
   "cell_type": "code",
   "execution_count": 13,
   "metadata": {},
   "outputs": [
    {
     "data": {
      "text/html": [
       "<style>#sk-67f163ad-9941-4aaf-8b79-fd4dd66a3eab {color: black;background-color: white;}#sk-67f163ad-9941-4aaf-8b79-fd4dd66a3eab pre{padding: 0;}#sk-67f163ad-9941-4aaf-8b79-fd4dd66a3eab div.sk-toggleable {background-color: white;}#sk-67f163ad-9941-4aaf-8b79-fd4dd66a3eab label.sk-toggleable__label {cursor: pointer;display: block;width: 100%;margin-bottom: 0;padding: 0.3em;box-sizing: border-box;text-align: center;}#sk-67f163ad-9941-4aaf-8b79-fd4dd66a3eab div.sk-toggleable__content {max-height: 0;max-width: 0;overflow: hidden;text-align: left;background-color: #f0f8ff;}#sk-67f163ad-9941-4aaf-8b79-fd4dd66a3eab div.sk-toggleable__content pre {margin: 0.2em;color: black;border-radius: 0.25em;background-color: #f0f8ff;}#sk-67f163ad-9941-4aaf-8b79-fd4dd66a3eab input.sk-toggleable__control:checked~div.sk-toggleable__content {max-height: 200px;max-width: 100%;overflow: auto;}#sk-67f163ad-9941-4aaf-8b79-fd4dd66a3eab div.sk-estimator input.sk-toggleable__control:checked~label.sk-toggleable__label {background-color: #d4ebff;}#sk-67f163ad-9941-4aaf-8b79-fd4dd66a3eab div.sk-label input.sk-toggleable__control:checked~label.sk-toggleable__label {background-color: #d4ebff;}#sk-67f163ad-9941-4aaf-8b79-fd4dd66a3eab input.sk-hidden--visually {border: 0;clip: rect(1px 1px 1px 1px);clip: rect(1px, 1px, 1px, 1px);height: 1px;margin: -1px;overflow: hidden;padding: 0;position: absolute;width: 1px;}#sk-67f163ad-9941-4aaf-8b79-fd4dd66a3eab div.sk-estimator {font-family: monospace;background-color: #f0f8ff;border: 1px dotted black;border-radius: 0.25em;box-sizing: border-box;margin-bottom: 0.5em;}#sk-67f163ad-9941-4aaf-8b79-fd4dd66a3eab div.sk-estimator:hover {background-color: #d4ebff;}#sk-67f163ad-9941-4aaf-8b79-fd4dd66a3eab div.sk-parallel-item::after {content: \"\";width: 100%;border-bottom: 1px solid gray;flex-grow: 1;}#sk-67f163ad-9941-4aaf-8b79-fd4dd66a3eab div.sk-label:hover label.sk-toggleable__label {background-color: #d4ebff;}#sk-67f163ad-9941-4aaf-8b79-fd4dd66a3eab div.sk-serial::before {content: \"\";position: absolute;border-left: 1px solid gray;box-sizing: border-box;top: 2em;bottom: 0;left: 50%;}#sk-67f163ad-9941-4aaf-8b79-fd4dd66a3eab div.sk-serial {display: flex;flex-direction: column;align-items: center;background-color: white;padding-right: 0.2em;padding-left: 0.2em;}#sk-67f163ad-9941-4aaf-8b79-fd4dd66a3eab div.sk-item {z-index: 1;}#sk-67f163ad-9941-4aaf-8b79-fd4dd66a3eab div.sk-parallel {display: flex;align-items: stretch;justify-content: center;background-color: white;}#sk-67f163ad-9941-4aaf-8b79-fd4dd66a3eab div.sk-parallel::before {content: \"\";position: absolute;border-left: 1px solid gray;box-sizing: border-box;top: 2em;bottom: 0;left: 50%;}#sk-67f163ad-9941-4aaf-8b79-fd4dd66a3eab div.sk-parallel-item {display: flex;flex-direction: column;position: relative;background-color: white;}#sk-67f163ad-9941-4aaf-8b79-fd4dd66a3eab div.sk-parallel-item:first-child::after {align-self: flex-end;width: 50%;}#sk-67f163ad-9941-4aaf-8b79-fd4dd66a3eab div.sk-parallel-item:last-child::after {align-self: flex-start;width: 50%;}#sk-67f163ad-9941-4aaf-8b79-fd4dd66a3eab div.sk-parallel-item:only-child::after {width: 0;}#sk-67f163ad-9941-4aaf-8b79-fd4dd66a3eab div.sk-dashed-wrapped {border: 1px dashed gray;margin: 0 0.4em 0.5em 0.4em;box-sizing: border-box;padding-bottom: 0.4em;background-color: white;position: relative;}#sk-67f163ad-9941-4aaf-8b79-fd4dd66a3eab div.sk-label label {font-family: monospace;font-weight: bold;background-color: white;display: inline-block;line-height: 1.2em;}#sk-67f163ad-9941-4aaf-8b79-fd4dd66a3eab div.sk-label-container {position: relative;z-index: 2;text-align: center;}#sk-67f163ad-9941-4aaf-8b79-fd4dd66a3eab div.sk-container {display: inline-block;position: relative;}</style><div id=\"sk-67f163ad-9941-4aaf-8b79-fd4dd66a3eab\" class\"sk-top-container\"><div class=\"sk-container\"><div class=\"sk-item sk-dashed-wrapped\"><div class=\"sk-label-container\"><div class=\"sk-label sk-toggleable\"><input class=\"sk-toggleable__control sk-hidden--visually\" id=\"a5a88a8d-bc86-49cc-8899-0ea692259d9f\" type=\"checkbox\" ><label class=\"sk-toggleable__label\" for=\"a5a88a8d-bc86-49cc-8899-0ea692259d9f\">Pipeline</label><div class=\"sk-toggleable__content\"><pre>Pipeline(steps=[('data_preprocessing',\n",
       "                 ColumnTransformer(transformers=[('numerical_pre',\n",
       "                                                  Pipeline(steps=[('num_scaler',\n",
       "                                                                   MinMaxScaler())]),\n",
       "                                                  ['time', 'rating']),\n",
       "                                                 ('text_pre_0',\n",
       "                                                  Pipeline(steps=[('text_vect_0',\n",
       "                                                                   CountVectorizer(binary=True,\n",
       "                                                                                   max_features=50))]),\n",
       "                                                  'summary'),\n",
       "                                                 ('text_pre_1',\n",
       "                                                  Pipeline(steps=[('text_vect_1',\n",
       "                                                                   CountVectorizer(binary=True,\n",
       "                                                                                   max_features=150))]),\n",
       "                                                  'reviewText')])),\n",
       "                ('lr', LinearRegression())])</pre></div></div></div><div class=\"sk-serial\"><div class=\"sk-item sk-dashed-wrapped\"><div class=\"sk-label-container\"><div class=\"sk-label sk-toggleable\"><input class=\"sk-toggleable__control sk-hidden--visually\" id=\"f5b340c8-581b-49b0-bb56-a91a9254690f\" type=\"checkbox\" ><label class=\"sk-toggleable__label\" for=\"f5b340c8-581b-49b0-bb56-a91a9254690f\">data_preprocessing: ColumnTransformer</label><div class=\"sk-toggleable__content\"><pre>ColumnTransformer(transformers=[('numerical_pre',\n",
       "                                 Pipeline(steps=[('num_scaler',\n",
       "                                                  MinMaxScaler())]),\n",
       "                                 ['time', 'rating']),\n",
       "                                ('text_pre_0',\n",
       "                                 Pipeline(steps=[('text_vect_0',\n",
       "                                                  CountVectorizer(binary=True,\n",
       "                                                                  max_features=50))]),\n",
       "                                 'summary'),\n",
       "                                ('text_pre_1',\n",
       "                                 Pipeline(steps=[('text_vect_1',\n",
       "                                                  CountVectorizer(binary=True,\n",
       "                                                                  max_features=150))]),\n",
       "                                 'reviewText')])</pre></div></div></div><div class=\"sk-parallel\"><div class=\"sk-parallel-item\"><div class=\"sk-item\"><div class=\"sk-label-container\"><div class=\"sk-label sk-toggleable\"><input class=\"sk-toggleable__control sk-hidden--visually\" id=\"a982471b-dae2-47ed-9408-d2d10cc74248\" type=\"checkbox\" ><label class=\"sk-toggleable__label\" for=\"a982471b-dae2-47ed-9408-d2d10cc74248\">numerical_pre</label><div class=\"sk-toggleable__content\"><pre>['time', 'rating']</pre></div></div></div><div class=\"sk-serial\"><div class=\"sk-item\"><div class=\"sk-serial\"><div class=\"sk-item\"><div class=\"sk-estimator sk-toggleable\"><input class=\"sk-toggleable__control sk-hidden--visually\" id=\"37220540-e499-4762-a5d4-367967c01210\" type=\"checkbox\" ><label class=\"sk-toggleable__label\" for=\"37220540-e499-4762-a5d4-367967c01210\">MinMaxScaler</label><div class=\"sk-toggleable__content\"><pre>MinMaxScaler()</pre></div></div></div></div></div></div></div></div><div class=\"sk-parallel-item\"><div class=\"sk-item\"><div class=\"sk-label-container\"><div class=\"sk-label sk-toggleable\"><input class=\"sk-toggleable__control sk-hidden--visually\" id=\"d5909469-e787-416a-9726-39ff13ecba55\" type=\"checkbox\" ><label class=\"sk-toggleable__label\" for=\"d5909469-e787-416a-9726-39ff13ecba55\">text_pre_0</label><div class=\"sk-toggleable__content\"><pre>summary</pre></div></div></div><div class=\"sk-serial\"><div class=\"sk-item\"><div class=\"sk-serial\"><div class=\"sk-item\"><div class=\"sk-estimator sk-toggleable\"><input class=\"sk-toggleable__control sk-hidden--visually\" id=\"b8f5bc70-da06-48e0-877d-4f2808c3bb55\" type=\"checkbox\" ><label class=\"sk-toggleable__label\" for=\"b8f5bc70-da06-48e0-877d-4f2808c3bb55\">CountVectorizer</label><div class=\"sk-toggleable__content\"><pre>CountVectorizer(binary=True, max_features=50)</pre></div></div></div></div></div></div></div></div><div class=\"sk-parallel-item\"><div class=\"sk-item\"><div class=\"sk-label-container\"><div class=\"sk-label sk-toggleable\"><input class=\"sk-toggleable__control sk-hidden--visually\" id=\"bdff2f6f-68c3-404d-828f-a5cb2a435c3b\" type=\"checkbox\" ><label class=\"sk-toggleable__label\" for=\"bdff2f6f-68c3-404d-828f-a5cb2a435c3b\">text_pre_1</label><div class=\"sk-toggleable__content\"><pre>reviewText</pre></div></div></div><div class=\"sk-serial\"><div class=\"sk-item\"><div class=\"sk-serial\"><div class=\"sk-item\"><div class=\"sk-estimator sk-toggleable\"><input class=\"sk-toggleable__control sk-hidden--visually\" id=\"90750d63-d0f0-4f3a-8f4d-4dc0a6c2ab3c\" type=\"checkbox\" ><label class=\"sk-toggleable__label\" for=\"90750d63-d0f0-4f3a-8f4d-4dc0a6c2ab3c\">CountVectorizer</label><div class=\"sk-toggleable__content\"><pre>CountVectorizer(binary=True, max_features=150)</pre></div></div></div></div></div></div></div></div></div></div><div class=\"sk-item\"><div class=\"sk-estimator sk-toggleable\"><input class=\"sk-toggleable__control sk-hidden--visually\" id=\"26c1ed9a-115a-4f18-a7e1-26631405dddc\" type=\"checkbox\" ><label class=\"sk-toggleable__label\" for=\"26c1ed9a-115a-4f18-a7e1-26631405dddc\">LinearRegression</label><div class=\"sk-toggleable__content\"><pre>LinearRegression()</pre></div></div></div></div></div></div></div>"
      ],
      "text/plain": [
       "Pipeline(steps=[('data_preprocessing',\n",
       "                 ColumnTransformer(transformers=[('numerical_pre',\n",
       "                                                  Pipeline(steps=[('num_scaler',\n",
       "                                                                   MinMaxScaler())]),\n",
       "                                                  ['time', 'rating']),\n",
       "                                                 ('text_pre_0',\n",
       "                                                  Pipeline(steps=[('text_vect_0',\n",
       "                                                                   CountVectorizer(binary=True,\n",
       "                                                                                   max_features=50))]),\n",
       "                                                  'summary'),\n",
       "                                                 ('text_pre_1',\n",
       "                                                  Pipeline(steps=[('text_vect_1',\n",
       "                                                                   CountVectorizer(binary=True,\n",
       "                                                                                   max_features=150))]),\n",
       "                                                  'reviewText')])),\n",
       "                ('lr', LinearRegression())])"
      ]
     },
     "execution_count": 13,
     "metadata": {},
     "output_type": "execute_result"
    }
   ],
   "source": [
    "# Fit the Pipeline to training data\n",
    "pipeline.fit(X_train[model_features], y_train.values)"
   ]
  },
  {
   "cell_type": "markdown",
   "metadata": {},
   "source": [
    "## 7. <a name=\"7\">Fitting Linear Regression models and checking the validation performance</a>\n",
    "(<a href=\"#0\">Go to top</a>)"
   ]
  },
  {
   "cell_type": "markdown",
   "metadata": {},
   "source": [
    "#### 7.1  LinearRegression\n",
    "Let's first fit __LinearRegression__ from Sklearn library, and check the performance on the validation dataset. Using the __coef___ atribute, we can also print the learned weights of the model.\n",
    "\n",
    "Find more details on __LinearRegression__ here:\n",
    "https://scikit-learn.org/stable/modules/generated/sklearn.linear_model.LinearRegression.html"
   ]
  },
  {
   "cell_type": "code",
   "execution_count": 14,
   "metadata": {},
   "outputs": [
    {
     "name": "stdout",
     "output_type": "stream",
     "text": [
      "LinearRegression on Validation: Mean_squared_error: 0.591002,  R_square_score: 0.356090\n",
      "LinearRegression model weights: \n",
      " [-1.74577314e+00 -4.16699072e-01  6.55550275e-02 -2.35263228e-02\n",
      "  8.61220740e-02 -1.01349476e-02  7.93537101e-02  1.00580696e-01\n",
      "  5.29633789e-02  2.05181032e-02  5.73207961e-02  2.22064160e-01\n",
      "  9.93746605e-02 -1.37704787e-02 -4.06298595e-02 -1.02553754e-04\n",
      "  4.40499946e-02  9.05559004e-02  2.17966121e-02  1.26253656e-02\n",
      " -2.25983349e-02  8.51472731e-03  2.46086741e-02 -2.33539637e-02\n",
      " -3.30884571e-02 -9.93520115e-03 -1.51318120e-01 -3.76403719e-02\n",
      "  6.49345534e-02 -1.17077198e-02  1.08909214e-02  1.58695722e-02\n",
      " -4.96625564e-02 -5.60339836e-02  5.79985155e-02 -8.74198875e-02\n",
      "  1.68564961e-02 -4.05450902e-02  2.67895702e-02  4.66004523e-02\n",
      " -9.30063028e-03  1.16291360e-01  2.62058316e-02 -2.14182250e-02\n",
      " -1.19422704e-02 -4.02101945e-02 -5.45593128e-02 -1.20283610e-01\n",
      "  1.28812660e-02  5.21457390e-02 -1.36325031e-02  8.86600753e-02\n",
      "  5.42079431e-03 -4.70404179e-02  9.00120138e-02  6.50392182e-02\n",
      "  6.40209412e-02 -4.80337724e-02  5.21237257e-02  2.77769541e-02\n",
      " -1.33472735e-02  2.49326537e-02  1.52713526e-02  4.96132410e-03\n",
      "  2.69374361e-02  4.02838081e-02  3.99136935e-02  1.09036222e-01\n",
      "  6.67872768e-02  8.41276207e-02  8.75869336e-02 -1.99736843e-02\n",
      " -4.10805883e-02  1.20796345e-01  1.03699122e-01  2.50625700e-02\n",
      "  5.49379324e-02  1.33983956e-02  9.03568378e-04  8.61970536e-03\n",
      "  1.03039754e-02  1.76767186e-02  1.58121513e-02  3.10935235e-02\n",
      "  8.68812511e-02  2.62193135e-02  6.90466196e-02  9.47787414e-03\n",
      " -5.32796735e-03 -2.52701243e-02  7.86172025e-02  4.59835043e-02\n",
      "  2.21098468e-02  1.36482974e-02 -1.70524769e-02  1.81249397e-02\n",
      "  2.28481058e-02  3.49090942e-02  1.92472778e-03 -7.10653542e-03\n",
      "  5.47236007e-03 -1.32636957e-02  1.70598083e-02  6.10152748e-02\n",
      " -5.83130587e-03  6.08769223e-02  4.66497862e-03  1.25991440e-01\n",
      "  2.07886715e-02  3.18103212e-02  1.37392505e-01  3.61222035e-04\n",
      "  2.82119724e-03 -1.89558194e-02  2.59798664e-02  1.17412865e-01\n",
      "  1.52362853e-02 -3.92003538e-02  1.76706026e-02  3.49413161e-02\n",
      "  1.10495609e-01 -2.62584609e-02  1.74357004e-02 -2.61435462e-02\n",
      "  2.30332076e-02  5.66528790e-02  5.47466918e-02  2.12465772e-02\n",
      "  7.42130409e-02  5.54875149e-02  2.96635678e-02  2.42994427e-02\n",
      "  1.24573503e-02 -3.66267577e-02  5.10829404e-02 -9.19411300e-02\n",
      "  2.57375037e-02 -1.59823270e-02  4.48793990e-02 -4.43223613e-02\n",
      " -8.83611002e-04  1.04401352e-02  4.80105825e-02  6.02075576e-02\n",
      "  3.17552705e-02  9.05583387e-03 -3.71826118e-02  6.11118328e-03\n",
      "  5.73208843e-02  6.00443297e-02  3.66195424e-02  1.28904881e-02\n",
      " -8.39218163e-02  9.64028148e-02  6.08002240e-02  1.50603031e-02\n",
      "  2.91222041e-02  1.49478153e-02  1.21161957e-01  3.57855324e-02\n",
      "  1.68262163e-02 -3.11501113e-02  1.75311652e-02  4.75839757e-02\n",
      " -3.34246260e-02 -5.20256808e-02  1.90839522e-02 -2.86798642e-02\n",
      "  9.26662160e-03  4.65491098e-02  3.57859859e-02 -3.84354749e-02\n",
      "  1.98149122e-02 -7.98392531e-02  3.79819451e-05  4.44709459e-02\n",
      " -1.08130571e-02 -7.87849503e-03 -1.15668044e-02 -1.11208300e-01\n",
      "  1.54510731e-02  8.73681550e-03  2.00028343e-02 -2.14026797e-02\n",
      "  4.16388636e-03  3.86776539e-02  1.37940318e-02  6.06018219e-02\n",
      "  7.20383295e-03  3.61070560e-02  6.47849492e-02  5.97982740e-02\n",
      "  5.21145861e-02  4.88811939e-02  1.04418306e-02  2.96479498e-02\n",
      "  5.59811016e-02  1.21381519e-01  1.10283847e-03  4.90773178e-03\n",
      " -2.28286540e-02  1.79477653e-02]\n"
     ]
    }
   ],
   "source": [
    "from sklearn.linear_model import LinearRegression\n",
    "from sklearn.metrics import r2_score, mean_squared_error\n",
    "\n",
    "lrRegressor_val_predictions = pipeline.predict(X_val[model_features])\n",
    "print(\"LinearRegression on Validation: Mean_squared_error: %f,  R_square_score: %f\" % \\\n",
    "      (mean_squared_error(y_val, lrRegressor_val_predictions),r2_score(y_val, lrRegressor_val_predictions)))\n",
    "print(\"LinearRegression model weights: \\n\", pipeline.named_steps['lr'].coef_)"
   ]
  },
  {
   "cell_type": "markdown",
   "metadata": {},
   "source": [
    "#### 7.2  Ridge (Linear Regression with L2 regularization)\n",
    "Let's now fit __Ridge__ from Sklearn library, and check the performance on the validation dataset.\n",
    "\n",
    "Find more details on __Ridge__ here:\n",
    "https://scikit-learn.org/stable/modules/generated/sklearn.linear_model.Ridge.html\n",
    "\n",
    "To improve the performance of a LinearRegression model, __Ridge__ is tuning model complexity by adding a $L_2$ penalty score for complexity to the model cost function:\n",
    "\n",
    "$$\\text{C}_{\\text{regularized}}(\\textbf{w}) = \\text{C}(\\textbf{w}) +  {alpha}∗||\\textbf{w}||_2^2$$\n",
    "\n",
    "where $\\textbf{w}$ is the model weights vector, and $||\\textbf{w}||_2^2 = \\sum \\textbf{w}_i^2$.\n",
    "\n",
    "The strength of the regularization is controlled by the regularizer parameter, alpha: smaller value of $alpha$, weaker regularization; larger value of $alpha$, stronger regularization. \n"
   ]
  },
  {
   "cell_type": "code",
   "execution_count": 15,
   "metadata": {},
   "outputs": [
    {
     "name": "stdout",
     "output_type": "stream",
     "text": [
      "Ridge on Validation: Mean_squared_error: 0.589688,  R_square_score: 0.357521\n",
      "Ridge model weights: \n",
      " [-1.62654931e+00 -4.03980500e-01  5.81220902e-02 -2.25711041e-02\n",
      "  7.88328713e-02 -1.08712774e-02  5.87454888e-02  8.20379113e-02\n",
      "  4.34748520e-02  1.30718660e-02  4.92064953e-02  1.56653709e-01\n",
      "  3.40521265e-02 -1.37047185e-02 -4.37902511e-02 -4.00150710e-03\n",
      "  3.66506119e-02  7.16482168e-02  1.45858409e-02  4.34449427e-03\n",
      " -2.20149581e-02 -2.25600565e-03  8.19135963e-03 -2.43087375e-02\n",
      " -3.32077788e-02 -9.60478980e-03 -1.21408190e-01 -7.16105716e-02\n",
      "  5.40908434e-02 -8.04966729e-03  8.44027269e-03  1.24341154e-02\n",
      " -4.83056785e-02 -5.35369894e-02  5.08590586e-02 -4.52176597e-02\n",
      "  1.90388401e-02 -4.23436565e-02 -2.94076371e-02  3.36209818e-02\n",
      " -1.18991231e-02  9.43684398e-02 -2.23346459e-02 -1.74423405e-02\n",
      " -1.46565163e-02 -3.34405210e-02 -5.02863381e-02 -8.35639539e-02\n",
      "  6.56486970e-03  4.45007519e-02 -1.77680247e-02  7.81482628e-02\n",
      "  4.97927904e-03 -4.80963778e-02  8.47090401e-02  6.29460655e-02\n",
      "  6.53205098e-02 -4.79727793e-02  4.66023553e-02  2.79484450e-02\n",
      " -1.17575875e-02  2.64193698e-02  1.68832290e-02  8.01533362e-03\n",
      "  2.67844455e-02  4.32633929e-02  3.79657411e-02  1.03874963e-01\n",
      "  6.48396191e-02  8.21807405e-02  8.55962826e-02 -2.02461793e-02\n",
      " -3.94784910e-02  1.17263960e-01  1.00835548e-01  2.55930293e-02\n",
      "  5.28142874e-02  9.45265464e-03  2.21566733e-03  1.13596966e-02\n",
      "  1.36937682e-02  1.70790310e-02  1.53268325e-02  3.29887677e-02\n",
      "  8.30255263e-02  2.52772590e-02  6.93033099e-02  9.36214427e-03\n",
      " -3.58456009e-03 -2.37789709e-02  7.88116054e-02  4.21964660e-02\n",
      "  2.37008621e-02  1.14793753e-02 -3.40475479e-03  1.97052950e-02\n",
      "  2.37479985e-02  3.48860874e-02  2.84385769e-03 -6.23881008e-03\n",
      "  6.39140349e-03 -1.03076142e-02  1.89189355e-02  5.96529854e-02\n",
      " -2.96285413e-03  5.96278846e-02  6.51257550e-03  1.21468297e-01\n",
      "  2.29779822e-02  3.35291301e-02  1.31797282e-01 -3.69072675e-03\n",
      "  2.38394158e-04 -1.68113652e-02  2.52795364e-02  1.15885409e-01\n",
      "  1.61784887e-02 -3.64252648e-02  1.72712231e-02  3.14786817e-02\n",
      "  1.09530994e-01 -2.44276040e-02  1.56694940e-02 -2.33400821e-02\n",
      "  2.31731767e-02  5.77542149e-02  5.61254467e-02  2.07419400e-02\n",
      "  7.36677216e-02  5.79194588e-02  2.92110614e-02  2.45904683e-02\n",
      "  1.17346722e-02 -3.41900531e-02  5.20640373e-02 -8.62899691e-02\n",
      "  2.72612015e-02 -1.44112357e-02  4.69216838e-02 -4.23409001e-02\n",
      " -2.56763095e-03  8.26979815e-03  4.55174780e-02  5.83923851e-02\n",
      "  3.45502411e-02  9.16790259e-03 -3.29566214e-02  1.14049197e-02\n",
      "  6.09025473e-02  6.05713340e-02  3.62507711e-02  1.21651047e-02\n",
      " -7.88952321e-02  9.35845486e-02  5.98854008e-02  1.67738024e-02\n",
      "  2.97146399e-02  1.61466753e-02  1.19440166e-01  3.64894193e-02\n",
      "  1.82890723e-02 -2.86903851e-02  1.81400260e-02  4.66683649e-02\n",
      " -3.11908826e-02 -4.59074292e-02  1.90952004e-02 -2.52876919e-02\n",
      "  1.05388344e-02  4.50892554e-02  4.04079976e-02 -3.68933489e-02\n",
      "  2.00643735e-02 -7.38852595e-02  1.06757103e-03  4.80133393e-02\n",
      " -1.19690383e-02 -2.12773490e-03 -9.23910621e-03 -1.07697471e-01\n",
      "  1.39679499e-02  1.08400317e-02  2.24968845e-02 -1.94375049e-02\n",
      "  5.19196268e-03  3.92066545e-02  1.28766699e-02  6.09577345e-02\n",
      "  7.95772110e-03  3.74589691e-02  6.43038952e-02  6.08809993e-02\n",
      "  5.21411158e-02  4.94554112e-02  1.15281299e-02  2.69802561e-02\n",
      "  5.46104077e-02  1.16341171e-01  6.07930760e-04  7.25457407e-03\n",
      " -2.07763124e-02  1.56772576e-02]\n"
     ]
    }
   ],
   "source": [
    "from sklearn.linear_model import Ridge\n",
    "from sklearn.metrics import r2_score, mean_squared_error\n",
    "\n",
    "# Let's update the pipeline with Ridge regression model\n",
    "ridge_pipeline = Pipeline([\n",
    "    ('data_preprocessing', data_preprocessor),\n",
    "    ('ridge', Ridge(alpha = 100))\n",
    "])\n",
    "\n",
    "ridge_pipeline.fit(X_train[model_features], y_train.values)\n",
    "ridgeRegressor_val_predictions = ridge_pipeline.predict(X_val[model_features])\n",
    "\n",
    "print(\"Ridge on Validation: Mean_squared_error: %f,  R_square_score: %f\" % \\\n",
    "      (mean_squared_error(y_val, ridgeRegressor_val_predictions),r2_score(y_val, ridgeRegressor_val_predictions)))\n",
    "\n",
    "print(\"Ridge model weights: \\n\", ridge_pipeline.named_steps['ridge'].coef_)"
   ]
  },
  {
   "cell_type": "markdown",
   "metadata": {},
   "source": [
    "#### 7.3 LASSO (Linear Regression with L1 regularization)\n",
    "Let's also fit __Lasso__ from Sklearn library, and check the performance on the validation dataset.\n",
    "\n",
    "Find more details on __Lasso__ here:\n",
    "https://scikit-learn.org/stable/modules/generated/sklearn.linear_model.Lasso.html\n",
    "\n",
    "__Lasso__ is tuning model complexity by adding a $L_1$ penalty score for complexity to the model cost function:\n",
    "\n",
    "$$\\text{C}_{\\text{regularized}}(\\textbf{w}) = \\text{C}(\\textbf{w}) +  alpha∗||\\textbf{w}||_1$$\n",
    "\n",
    "where $\\textbf{w}$ is the model weights vector, and $||\\textbf{w}||_1 = \\sum |\\textbf{w}_i|$. \n",
    "\n",
    "Again, the strength of the regularization is controlled by the regularizer parameter, $alpha$. Due to the geometry of $L_1$ norm, with __Lasso__, some of the weights will shrink all the way to 0, leading to sparsity - some of the features are not contributing to the model afterall!"
   ]
  },
  {
   "cell_type": "code",
   "execution_count": 16,
   "metadata": {},
   "outputs": [
    {
     "name": "stdout",
     "output_type": "stream",
     "text": [
      "Lasso on Validation: Mean_squared_error: 0.589867,  R_square_score: 0.357327\n",
      "Lasso model weights: \n",
      " [-1.72010524e+00 -3.89067686e-01  2.58213525e-02 -0.00000000e+00\n",
      "  3.82842552e-02 -0.00000000e+00  0.00000000e+00  0.00000000e+00\n",
      "  0.00000000e+00  0.00000000e+00  1.06602376e-02  1.26472385e-01\n",
      "  0.00000000e+00 -0.00000000e+00 -2.50955076e-02  0.00000000e+00\n",
      "  0.00000000e+00  0.00000000e+00  0.00000000e+00  0.00000000e+00\n",
      " -0.00000000e+00 -0.00000000e+00 -0.00000000e+00 -0.00000000e+00\n",
      " -0.00000000e+00 -0.00000000e+00 -4.63960564e-02 -5.02315491e-02\n",
      "  0.00000000e+00 -0.00000000e+00  0.00000000e+00  0.00000000e+00\n",
      " -0.00000000e+00 -0.00000000e+00  3.47943828e-02 -1.61006740e-02\n",
      "  0.00000000e+00 -7.44345517e-03 -0.00000000e+00  0.00000000e+00\n",
      " -0.00000000e+00  1.95457533e-02 -0.00000000e+00 -0.00000000e+00\n",
      "  0.00000000e+00 -0.00000000e+00 -0.00000000e+00 -0.00000000e+00\n",
      " -0.00000000e+00  0.00000000e+00 -5.88222939e-05  2.42462224e-02\n",
      "  0.00000000e+00 -1.67083722e-02  7.65288954e-02  5.11191702e-02\n",
      "  6.52495708e-02 -1.95841027e-02  4.24640009e-02  1.94354445e-02\n",
      " -0.00000000e+00  2.31689366e-02  6.60345613e-03  0.00000000e+00\n",
      "  7.77241315e-03  4.24802208e-02  2.46611963e-02  9.84988824e-02\n",
      "  5.66360446e-02  7.04583867e-02  7.39390006e-02 -7.30202686e-03\n",
      " -2.01568144e-02  1.09070226e-01  9.85161084e-02  1.89173069e-02\n",
      "  4.21733593e-02  8.92224900e-03  0.00000000e+00  1.71690041e-03\n",
      "  1.12690153e-02  8.37400874e-03  0.00000000e+00  2.08424501e-02\n",
      "  6.58613271e-02  1.11684319e-02  6.50926378e-02  0.00000000e+00\n",
      "  0.00000000e+00 -0.00000000e+00  7.75635511e-02  1.81639732e-02\n",
      "  1.34094779e-02  3.47083919e-03  0.00000000e+00  1.94450618e-02\n",
      "  1.64302217e-02  2.08545783e-02  0.00000000e+00 -0.00000000e+00\n",
      "  4.76631063e-04 -0.00000000e+00  1.11247950e-02  4.88585581e-02\n",
      "  0.00000000e+00  4.50304949e-02  0.00000000e+00  1.18703397e-01\n",
      "  0.00000000e+00  3.08937134e-02  1.23558636e-01  0.00000000e+00\n",
      "  0.00000000e+00 -0.00000000e+00  1.16569677e-02  1.21335603e-01\n",
      "  1.45310173e-02 -5.73789112e-03  0.00000000e+00  1.61575418e-02\n",
      "  1.09974422e-01 -0.00000000e+00  5.62051077e-03 -4.01496300e-03\n",
      "  7.70560592e-03  5.84355530e-02  5.64992818e-02  4.38075213e-03\n",
      "  6.32725981e-02  4.04038476e-02  1.22287629e-02  2.22709234e-02\n",
      "  1.04258533e-02 -1.31483697e-02  4.90841487e-02 -7.81193766e-02\n",
      "  2.65567658e-02 -0.00000000e+00  4.76621958e-02 -7.68826444e-03\n",
      "  0.00000000e+00  0.00000000e+00  2.78708595e-02  4.61145064e-02\n",
      "  4.89654813e-03  7.44021251e-03 -2.00508423e-02  9.89654553e-03\n",
      "  6.13162205e-02  5.69293636e-02  1.80026670e-02  0.00000000e+00\n",
      " -6.68203206e-02  8.53132296e-02  5.07280820e-02  1.31730549e-02\n",
      "  2.11212109e-02  0.00000000e+00  1.17546023e-01  2.52114748e-02\n",
      "  7.19393639e-03 -4.51436030e-05  1.42525486e-02  4.03626273e-02\n",
      " -8.38373569e-03 -6.87175976e-03  4.08641734e-03 -0.00000000e+00\n",
      "  0.00000000e+00  3.92851230e-02  4.45392213e-02 -5.89714208e-05\n",
      "  1.65714427e-02 -3.69897761e-02  0.00000000e+00  5.00988888e-02\n",
      " -0.00000000e+00  0.00000000e+00  0.00000000e+00 -9.13432006e-02\n",
      "  0.00000000e+00  4.31028874e-03  1.26817405e-02 -2.24943717e-03\n",
      "  4.04191830e-03  3.34928099e-02  2.29938781e-03  5.26626213e-02\n",
      "  4.47070643e-03  3.24783959e-02  6.23245733e-02  5.60383137e-02\n",
      "  5.44973737e-02  4.95496624e-02  7.21334713e-03  2.96171512e-02\n",
      "  4.54341406e-02  1.06924613e-01 -0.00000000e+00  0.00000000e+00\n",
      " -5.10833926e-03  1.40971226e-02]\n"
     ]
    }
   ],
   "source": [
    "from sklearn.linear_model import Lasso\n",
    "from sklearn.metrics import r2_score, mean_squared_error\n",
    "\n",
    "# Let's update the pipeline with Lasso regression model\n",
    "lasso_pipeline = Pipeline([\n",
    "    ('data_preprocessing', data_preprocessor),\n",
    "    ('lasso', Lasso(alpha = 0.001))\n",
    "])\n",
    "\n",
    "lasso_pipeline.fit(X_train[model_features], y_train.values)\n",
    "lassoRegressor_val_predictions = lasso_pipeline.predict(X_val[model_features])\n",
    "\n",
    "print(\"Lasso on Validation: Mean_squared_error: %f,  R_square_score: %f\" % \\\n",
    "      (mean_squared_error(y_val, lassoRegressor_val_predictions),r2_score(y_val, lassoRegressor_val_predictions)))\n",
    "\n",
    "print(\"Lasso model weights: \\n\", lasso_pipeline.named_steps['lasso'].coef_)"
   ]
  },
  {
   "cell_type": "markdown",
   "metadata": {},
   "source": [
    "#### 7.4 ElasticNet (Linear Regression with L2 and L1 regularization)\n",
    "Let's finally try __ElasticNet__ from Sklearn library, and check the performance on the validation dataset.\n",
    "\n",
    "Find more details on __ElasticNet__ here:\n",
    "https://scikit-learn.org/stable/modules/generated/sklearn.linear_model.ElasticNet.html\n",
    "\n",
    "__ElasticNet__ is tuning model complexity by adding both $L_2$ and $L_1$ penalty scores for complexity to the model's cost function:\n",
    "\n",
    "$$\\text{C}_{\\text{regularized}}(\\textbf{w}) = \\text{C}(\\textbf{w}) +  0.5*alpha∗(1-\\textit{l1}_{ratio})||\\textbf{w}||_2^2 + alpha∗\\textit{l1}_{ratio}∗||\\textbf{w}||_1$$\n",
    "\n",
    "and using two parameters, $alpha$ and $\\textit{l1}_{ratio}$, to control the strength of the regularization."
   ]
  },
  {
   "cell_type": "code",
   "execution_count": 17,
   "metadata": {},
   "outputs": [
    {
     "name": "stdout",
     "output_type": "stream",
     "text": [
      "ElasticNet on Validation: Mean_squared_error: 0.589963,  R_square_score: 0.357222\n",
      "ElasticNet model weights: \n",
      " [-1.68706874e+00 -4.07625447e-01  5.80533276e-02 -1.74342339e-02\n",
      "  7.71012102e-02 -2.79938007e-03  6.08704201e-02  8.27085819e-02\n",
      "  4.01079987e-02  1.22164446e-02  4.90111408e-02  1.81185231e-01\n",
      "  5.72731714e-02 -7.48911322e-03 -4.03361893e-02 -4.30131224e-04\n",
      "  3.32676913e-02  7.24489929e-02  1.04312914e-02  1.44020260e-03\n",
      " -1.70751670e-02  0.00000000e+00  5.69117077e-03 -1.75438933e-02\n",
      " -2.71578678e-02 -7.12566653e-03 -1.26970793e-01 -5.45150508e-02\n",
      "  5.15288749e-02 -8.76079762e-04  7.65163810e-03  9.88670210e-03\n",
      " -4.33266719e-02 -4.74613861e-02  5.27279477e-02 -6.00927840e-02\n",
      "  1.05449510e-02 -4.03282619e-02 -0.00000000e+00  3.02110416e-02\n",
      " -2.58696608e-03  9.72705366e-02 -0.00000000e+00 -1.08439478e-02\n",
      " -8.05392460e-03 -2.82054308e-02 -4.79513248e-02 -8.53745513e-02\n",
      "  0.00000000e+00  4.13017601e-02 -1.32683702e-02  7.47598512e-02\n",
      "  4.29318642e-03 -4.45466901e-02  8.62029311e-02  6.26287563e-02\n",
      "  6.45280064e-02 -4.50540665e-02  4.86399069e-02  2.68667074e-02\n",
      " -1.01189203e-02  2.55678660e-02  1.50411873e-02  5.94743167e-03\n",
      "  2.45497805e-02  4.18197492e-02  3.75863429e-02  1.05350785e-01\n",
      "  6.45827819e-02  8.16920678e-02  8.50396766e-02 -1.92542247e-02\n",
      " -3.84084998e-02  1.18160062e-01  1.01825789e-01  2.45545932e-02\n",
      "  5.25886285e-02  1.15784649e-02  1.22055403e-03  9.17429902e-03\n",
      "  1.19036314e-02  1.64724437e-02  1.35701623e-02  3.11118328e-02\n",
      "  8.30514230e-02  2.43230082e-02  6.87413774e-02  8.40801281e-03\n",
      " -1.89335613e-03 -2.18277179e-02  7.88095533e-02  4.11053130e-02\n",
      "  2.18727044e-02  1.17358428e-02 -5.38738308e-03  1.87305169e-02\n",
      "  2.24699570e-02  3.31072597e-02  1.69661089e-03 -4.62130160e-03\n",
      "  5.04998495e-03 -8.68897055e-03  1.68907133e-02  5.91045780e-02\n",
      " -7.87592543e-04  5.86171776e-02  4.09090917e-03  1.22948260e-01\n",
      "  1.93750677e-02  3.23713804e-02  1.33235522e-01 -0.00000000e+00\n",
      "  1.04567821e-04 -1.52113462e-02  2.39688365e-02  1.17479237e-01\n",
      "  1.60226689e-02 -3.45103379e-02  1.46060847e-02  3.13436287e-02\n",
      "  1.10006644e-01 -2.29315833e-02  1.60635679e-02 -2.33524240e-02\n",
      "  2.13945444e-02  5.73501143e-02  5.54829406e-02  1.90147288e-02\n",
      "  7.28260875e-02  5.60818827e-02  2.76391306e-02  2.42511949e-02\n",
      "  1.15196184e-02 -3.36649539e-02  5.10161063e-02 -8.89813950e-02\n",
      "  2.64829788e-02 -1.25957025e-02  4.62400475e-02 -3.97579749e-02\n",
      " -0.00000000e+00  7.90135047e-03  4.52666170e-02  5.78268289e-02\n",
      "  2.84180954e-02  8.85493041e-03 -3.37988175e-02  8.80560276e-03\n",
      "  5.99676159e-02  5.96939271e-02  3.44039817e-02  1.12371157e-02\n",
      " -8.01106811e-02  9.35775293e-02  5.93942119e-02  1.54218302e-02\n",
      "  2.84324048e-02  1.35352644e-02  1.19857160e-01  3.49082498e-02\n",
      "  1.61413198e-02 -2.68365149e-02  1.74494864e-02  4.60901761e-02\n",
      " -3.02599073e-02 -4.46047674e-02  1.73595678e-02 -2.36046871e-02\n",
      "  7.97216178e-03  4.48052587e-02  3.89272497e-02 -3.40282621e-02\n",
      "  1.97509694e-02 -7.30542845e-02  0.00000000e+00  4.74082231e-02\n",
      " -7.51778123e-03 -2.05099807e-03 -7.61479018e-03 -1.07341257e-01\n",
      "  1.23865483e-02  9.08048512e-03  2.03503967e-02 -1.88313074e-02\n",
      "  4.77047920e-03  3.84286106e-02  1.19681889e-02  5.90752754e-02\n",
      "  7.18757654e-03  3.60911593e-02  6.44898529e-02  5.95977797e-02\n",
      "  5.22282033e-02  4.88821127e-02  1.09551351e-02  2.82955014e-02\n",
      "  5.41002158e-02  1.17644956e-01  0.00000000e+00  4.00313384e-03\n",
      " -2.03658410e-02  1.64129324e-02]\n"
     ]
    }
   ],
   "source": [
    "from sklearn.linear_model import ElasticNet\n",
    "from sklearn.metrics import r2_score, mean_squared_error\n",
    "\n",
    "# Let's update the pipeline with ElasticNet regression model\n",
    "elastic_net_pipeline = Pipeline([\n",
    "    ('data_preprocessing', data_preprocessor),\n",
    "    ('elastic_net', ElasticNet(alpha = 0.001, l1_ratio = 0.1))\n",
    "])\n",
    "\n",
    "elastic_net_pipeline.fit(X_train[model_features], y_train.values)\n",
    "enRegressor_val_predictions = elastic_net_pipeline.predict(X_val[model_features])\n",
    "\n",
    "print(\"ElasticNet on Validation: Mean_squared_error: %f,  R_square_score: %f\" % \\\n",
    "      (mean_squared_error(y_val, enRegressor_val_predictions),r2_score(y_val, enRegressor_val_predictions)))\n",
    "\n",
    "print(\"ElasticNet model weights: \\n\", elastic_net_pipeline.named_steps['elastic_net'].coef_)"
   ]
  },
  {
   "cell_type": "markdown",
   "metadata": {},
   "source": [
    "#### 7.5 Weights shrinkage and sparsity\n",
    "\n",
    "Let's compare weights ranges for all these regression models:"
   ]
  },
  {
   "cell_type": "code",
   "execution_count": 18,
   "metadata": {},
   "outputs": [
    {
     "name": "stdout",
     "output_type": "stream",
     "text": [
      "LinearRegression weights range: \n",
      " 3.798194508242648e-05 1.745773143590561\n",
      "Ridge weights range: \n",
      " 0.00023839415841929562 1.626549306436705\n",
      "Lasso weights range: \n",
      " 0.0 1.7201052442656493\n",
      "ElasticNet weights range: \n",
      " 0.0 1.6870687401639743\n"
     ]
    }
   ],
   "source": [
    "import numpy as np\n",
    "\n",
    "lin_regression_coeffs = pipeline.named_steps['lr'].coef_\n",
    "ridge_regression_coeffs = ridge_pipeline.named_steps['ridge'].coef_\n",
    "lasso_regression_coeffs = lasso_pipeline.named_steps['lasso'].coef_\n",
    "enet_regression_coeffs = elastic_net_pipeline.named_steps['elastic_net'].coef_\n",
    "\n",
    "print('LinearRegression weights range: \\n', np.abs(lin_regression_coeffs).min(), np.abs(lin_regression_coeffs).max())\n",
    "print('Ridge weights range: \\n', np.abs(ridge_regression_coeffs).min(), np.abs(ridge_regression_coeffs).max())\n",
    "print('Lasso weights range: \\n', np.abs(lasso_regression_coeffs).min(), np.abs(lasso_regression_coeffs).max())\n",
    "print('ElasticNet weights range: \\n', np.abs(enet_regression_coeffs).min(), np.abs(enet_regression_coeffs).max())"
   ]
  },
  {
   "cell_type": "markdown",
   "metadata": {},
   "source": [
    "The weights of all regularized models are lowered compared to __LinearRegression__, with some of the weights of __Lasso__ and __ElasticNet__ shrinked all the way to 0. Using sparsity, the __Lasso__ regularization reduces the number of features, performing feature selection."
   ]
  },
  {
   "cell_type": "markdown",
   "metadata": {},
   "source": [
    "## 8. <a name=\"7\">Ideas for improvement</a>\n",
    "(<a href=\"#0\">Go to top</a>)\n",
    "\n",
    "One way to improve the performance of a linear regression model is to try different strenghts of regularization, here controlled by the parameters $alpha$ and $\\textit{l1}_{ratio}$."
   ]
  }
 ],
 "metadata": {
  "kernelspec": {
   "display_name": "conda_pytorch_p39",
   "language": "python",
   "name": "conda_pytorch_p39"
  },
  "language_info": {
   "codemirror_mode": {
    "name": "ipython",
    "version": 3
   },
   "file_extension": ".py",
   "mimetype": "text/x-python",
   "name": "python",
   "nbconvert_exporter": "python",
   "pygments_lexer": "ipython3",
   "version": "3.9.13"
  }
 },
 "nbformat": 4,
 "nbformat_minor": 2
}
